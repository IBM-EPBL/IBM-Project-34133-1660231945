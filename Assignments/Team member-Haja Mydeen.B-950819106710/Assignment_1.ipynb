{
  "nbformat": 4,
  "nbformat_minor": 0,
  "metadata": {
    "colab": {
      "provenance": [],
      "collapsed_sections": [],
      "toc_visible": true
    },
    "kernelspec": {
      "name": "python3",
      "display_name": "Python 3"
    },
    "language_info": {
      "name": "python"
    }
  },
  "cells": [
    {
      "cell_type": "markdown",
      "source": [
        "# Basic Python"
      ],
      "metadata": {
        "id": "McSxJAwcOdZ1"
      }
    },
    {
      "cell_type": "markdown",
      "source": [
        "## 1. Split this string"
      ],
      "metadata": {
        "id": "CU48hgo4Owz5"
      }
    },
    {
      "cell_type": "code",
      "source": [
        "s = \"Hi there Sam!\""
      ],
      "metadata": {
        "id": "s07c7JK7Oqt-"
      },
      "execution_count": null,
      "outputs": []
    },
    {
      "cell_type": "code",
      "source": [
        "print(s.split())"
      ],
      "metadata": {
        "id": "6mGVa3SQYLkb",
        "outputId": "c04e1a7a-3c34-4708-b09c-1627a9c3c48a",
        "colab": {
          "base_uri": "https://localhost:8080/"
        }
      },
      "execution_count": 56,
      "outputs": [
        {
          "output_type": "stream",
          "name": "stdout",
          "text": [
            "['Hi', 'there', 'Sam!']\n"
          ]
        }
      ]
    },
    {
      "cell_type": "markdown",
      "source": [
        "## 2. Use .format() to print the following string. \n",
        "\n",
        "### Output should be: The diameter of Earth is 12742 kilometers."
      ],
      "metadata": {
        "id": "GH1QBn8HP375"
      }
    },
    {
      "cell_type": "code",
      "source": [
        "planet = \"Earth\"\n",
        "diameter = 12742"
      ],
      "metadata": {
        "id": "_ZHoml3kPqic"
      },
      "execution_count": null,
      "outputs": []
    },
    {
      "cell_type": "code",
      "source": [
        "planet=\"Earth\"\n",
        "diameter=12742\n",
        "print(\"The diameter of {} is {} kilometers.\".format(planet,diameter))\n",
        "print(f\"The diameter of {planet} is{diameter} kilometers.\")"
      ],
      "metadata": {
        "id": "HyRyJv6CYPb4",
        "outputId": "f35de6b0-d4a7-4bd7-e78e-4da149fa606f",
        "colab": {
          "base_uri": "https://localhost:8080/"
        }
      },
      "execution_count": 57,
      "outputs": [
        {
          "output_type": "stream",
          "name": "stdout",
          "text": [
            "The diameter of Earth is 12742 kilometers.\n",
            "The diameter of Earth is12742 kilometers.\n"
          ]
        }
      ]
    },
    {
      "cell_type": "markdown",
      "source": [
        "## 3. In this nest dictionary grab the word \"hello\""
      ],
      "metadata": {
        "id": "KE74ZEwkRExZ"
      }
    },
    {
      "cell_type": "code",
      "source": [
        "d = {'k1':[1,2,3,{'tricky':['oh','man','inception',{'target':[1,2,3,'hello']}]}]}"
      ],
      "metadata": {
        "id": "fcVwbCc1QrQI"
      },
      "execution_count": null,
      "outputs": []
    },
    {
      "cell_type": "code",
      "source": [
        "d['k1'][3]['tricky'][3]['target'][3]"
      ],
      "metadata": {
        "id": "MvbkMZpXYRaw",
        "outputId": "70ffad15-1b79-4391-9802-7f4ea59259bf",
        "colab": {
          "base_uri": "https://localhost:8080/",
          "height": 36
        }
      },
      "execution_count": 58,
      "outputs": [
        {
          "output_type": "execute_result",
          "data": {
            "text/plain": [
              "'hello'"
            ],
            "application/vnd.google.colaboratory.intrinsic+json": {
              "type": "string"
            }
          },
          "metadata": {},
          "execution_count": 58
        }
      ]
    },
    {
      "cell_type": "markdown",
      "source": [
        "# Numpy"
      ],
      "metadata": {
        "id": "bw0vVp-9ddjv"
      }
    },
    {
      "cell_type": "code",
      "source": [
        "import numpy as np"
      ],
      "metadata": {
        "id": "LLiE_TYrhA1O"
      },
      "execution_count": null,
      "outputs": []
    },
    {
      "cell_type": "markdown",
      "source": [
        "## 4.1 Create an array of 10 zeros? \n",
        "## 4.2 Create an array of 10 fives?"
      ],
      "metadata": {
        "id": "wOg8hinbgx30"
      }
    },
    {
      "cell_type": "code",
      "source": [
        "import numpy as np\n",
        "array=np.zeros(10)\n",
        "print(\"An array of 10 zeros:\")\n",
        "print(array)"
      ],
      "metadata": {
        "id": "NHrirmgCYXvU",
        "outputId": "e4b40c3a-57cc-4ce8-bfb5-d7bf758a1888",
        "colab": {
          "base_uri": "https://localhost:8080/"
        }
      },
      "execution_count": 59,
      "outputs": [
        {
          "output_type": "stream",
          "name": "stdout",
          "text": [
            "An array of 10 zeros:\n",
            "[0. 0. 0. 0. 0. 0. 0. 0. 0. 0.]\n"
          ]
        }
      ]
    },
    {
      "cell_type": "code",
      "source": [
        "import numpy as np\n",
        "array=np.ones(10)*5\n",
        "print(\"An array of 10 fives:\")\n",
        "print(array)"
      ],
      "metadata": {
        "id": "e4005lsTYXxx",
        "outputId": "bf5719fc-808a-4ebb-a2b1-f09e07d86324",
        "colab": {
          "base_uri": "https://localhost:8080/"
        }
      },
      "execution_count": 60,
      "outputs": [
        {
          "output_type": "stream",
          "name": "stdout",
          "text": [
            "An array of 10 fives:\n",
            "[5. 5. 5. 5. 5. 5. 5. 5. 5. 5.]\n"
          ]
        }
      ]
    },
    {
      "cell_type": "markdown",
      "source": [
        "## 5. Create an array of all the even integers from 20 to 35"
      ],
      "metadata": {
        "id": "gZHHDUBvrMX4"
      }
    },
    {
      "cell_type": "code",
      "source": [
        "import numpy as np\n",
        "array=np.arange(20,35,2)\n",
        "print(\"Array of all the even integers from 30 to 70\")\n",
        "print(array)"
      ],
      "metadata": {
        "id": "oAI2tbU2Yag-",
        "outputId": "9080b989-8cd2-4003-854e-822330693c5f",
        "colab": {
          "base_uri": "https://localhost:8080/"
        }
      },
      "execution_count": 61,
      "outputs": [
        {
          "output_type": "stream",
          "name": "stdout",
          "text": [
            "Array of all the even integers from 30 to 70\n",
            "[20 22 24 26 28 30 32 34]\n"
          ]
        }
      ]
    },
    {
      "cell_type": "markdown",
      "source": [
        "## 6. Create a 3x3 matrix with values ranging from 0 to 8"
      ],
      "metadata": {
        "id": "NaOM308NsRpZ"
      }
    },
    {
      "cell_type": "code",
      "source": [
        "import numpy as np\n",
        "x =  np.arange(0, 9).reshape(3,3)\n",
        "print(x)"
      ],
      "metadata": {
        "id": "tOlEVH7BYceE",
        "outputId": "50efba66-a907-4e2f-b1f7-14d5292cd053",
        "colab": {
          "base_uri": "https://localhost:8080/"
        }
      },
      "execution_count": 62,
      "outputs": [
        {
          "output_type": "stream",
          "name": "stdout",
          "text": [
            "[[0 1 2]\n",
            " [3 4 5]\n",
            " [6 7 8]]\n"
          ]
        }
      ]
    },
    {
      "cell_type": "markdown",
      "source": [
        "## 7. Concatenate a and b \n",
        "## a = np.array([1, 2, 3]), b = np.array([4, 5, 6])"
      ],
      "metadata": {
        "id": "hQ0dnhAQuU_p"
      }
    },
    {
      "cell_type": "code",
      "source": [
        "import numpy as np\n",
        "print(np.concatenate((a, b)))"
      ],
      "metadata": {
        "id": "rAPSw97aYfE0",
        "outputId": "648a9705-463e-4e1c-856e-3d2895dcde4c",
        "colab": {
          "base_uri": "https://localhost:8080/"
        }
      },
      "execution_count": 63,
      "outputs": [
        {
          "output_type": "stream",
          "name": "stdout",
          "text": [
            "[1 2 3 4 5 6]\n"
          ]
        }
      ]
    },
    {
      "cell_type": "markdown",
      "source": [
        "# Pandas"
      ],
      "metadata": {
        "id": "dlPEY9DRwZga"
      }
    },
    {
      "cell_type": "markdown",
      "source": [
        "## 8. Create a dataframe with 3 rows and 2 columns"
      ],
      "metadata": {
        "id": "ijoYW51zwr87"
      }
    },
    {
      "cell_type": "code",
      "source": [
        "import pandas as pd\n"
      ],
      "metadata": {
        "id": "T5OxJRZ8uvR7"
      },
      "execution_count": null,
      "outputs": []
    },
    {
      "cell_type": "code",
      "source": [
        "import pandas as pd\n",
        "data = {\"Name\": ['Tom','Joseph','John'],'Age': [20, 21,25]}  \n",
        "df = pd.DataFrame(data) \n",
        "print(df)"
      ],
      "metadata": {
        "id": "xNpI_XXoYhs0",
        "outputId": "f575e054-a537-483c-a74c-ea974adc2d06",
        "colab": {
          "base_uri": "https://localhost:8080/"
        }
      },
      "execution_count": 64,
      "outputs": [
        {
          "output_type": "stream",
          "name": "stdout",
          "text": [
            "     Name  Age\n",
            "0     Tom   20\n",
            "1  Joseph   21\n",
            "2    John   25\n"
          ]
        }
      ]
    },
    {
      "cell_type": "markdown",
      "source": [
        "## 9. Generate the series of dates from 1st Jan, 2023 to 10th Feb, 2023"
      ],
      "metadata": {
        "id": "UXSmdNclyJQD"
      }
    },
    {
      "cell_type": "code",
      "source": [
        "import pandas as pd\n",
        "from datetime import datetime\n",
        "pd.date_range(end = datetime.today(), periods = 100).to_pydatetime().tolist()\n",
        "pd.date_range(start=\"2023-01-01\",end=\"2023-02-10\").to_pydatetime()"
      ],
      "metadata": {
        "id": "dgyC0JhVYl4F",
        "outputId": "abb70558-97c1-46d1-be78-97cdab2c9bbe",
        "colab": {
          "base_uri": "https://localhost:8080/"
        }
      },
      "execution_count": 65,
      "outputs": [
        {
          "output_type": "execute_result",
          "data": {
            "text/plain": [
              "array([datetime.datetime(2023, 1, 1, 0, 0),\n",
              "       datetime.datetime(2023, 1, 2, 0, 0),\n",
              "       datetime.datetime(2023, 1, 3, 0, 0),\n",
              "       datetime.datetime(2023, 1, 4, 0, 0),\n",
              "       datetime.datetime(2023, 1, 5, 0, 0),\n",
              "       datetime.datetime(2023, 1, 6, 0, 0),\n",
              "       datetime.datetime(2023, 1, 7, 0, 0),\n",
              "       datetime.datetime(2023, 1, 8, 0, 0),\n",
              "       datetime.datetime(2023, 1, 9, 0, 0),\n",
              "       datetime.datetime(2023, 1, 10, 0, 0),\n",
              "       datetime.datetime(2023, 1, 11, 0, 0),\n",
              "       datetime.datetime(2023, 1, 12, 0, 0),\n",
              "       datetime.datetime(2023, 1, 13, 0, 0),\n",
              "       datetime.datetime(2023, 1, 14, 0, 0),\n",
              "       datetime.datetime(2023, 1, 15, 0, 0),\n",
              "       datetime.datetime(2023, 1, 16, 0, 0),\n",
              "       datetime.datetime(2023, 1, 17, 0, 0),\n",
              "       datetime.datetime(2023, 1, 18, 0, 0),\n",
              "       datetime.datetime(2023, 1, 19, 0, 0),\n",
              "       datetime.datetime(2023, 1, 20, 0, 0),\n",
              "       datetime.datetime(2023, 1, 21, 0, 0),\n",
              "       datetime.datetime(2023, 1, 22, 0, 0),\n",
              "       datetime.datetime(2023, 1, 23, 0, 0),\n",
              "       datetime.datetime(2023, 1, 24, 0, 0),\n",
              "       datetime.datetime(2023, 1, 25, 0, 0),\n",
              "       datetime.datetime(2023, 1, 26, 0, 0),\n",
              "       datetime.datetime(2023, 1, 27, 0, 0),\n",
              "       datetime.datetime(2023, 1, 28, 0, 0),\n",
              "       datetime.datetime(2023, 1, 29, 0, 0),\n",
              "       datetime.datetime(2023, 1, 30, 0, 0),\n",
              "       datetime.datetime(2023, 1, 31, 0, 0),\n",
              "       datetime.datetime(2023, 2, 1, 0, 0),\n",
              "       datetime.datetime(2023, 2, 2, 0, 0),\n",
              "       datetime.datetime(2023, 2, 3, 0, 0),\n",
              "       datetime.datetime(2023, 2, 4, 0, 0),\n",
              "       datetime.datetime(2023, 2, 5, 0, 0),\n",
              "       datetime.datetime(2023, 2, 6, 0, 0),\n",
              "       datetime.datetime(2023, 2, 7, 0, 0),\n",
              "       datetime.datetime(2023, 2, 8, 0, 0),\n",
              "       datetime.datetime(2023, 2, 9, 0, 0),\n",
              "       datetime.datetime(2023, 2, 10, 0, 0)], dtype=object)"
            ]
          },
          "metadata": {},
          "execution_count": 65
        }
      ]
    },
    {
      "cell_type": "markdown",
      "source": [
        "## 10. Create 2D list to DataFrame\n",
        "\n",
        "lists = [[1, 'aaa', 22],\n",
        "         [2, 'bbb', 25],\n",
        "         [3, 'ccc', 24]]"
      ],
      "metadata": {
        "id": "ZizSetD-y5az"
      }
    },
    {
      "cell_type": "code",
      "source": [
        "lists = [[1, 'aaa', 22], [2, 'bbb', 25], [3, 'ccc', 24]]"
      ],
      "metadata": {
        "id": "_XMC8aEt0llB"
      },
      "execution_count": null,
      "outputs": []
    },
    {
      "cell_type": "code",
      "source": [
        "import pandas as pd\n",
        "\n",
        "data = [[1, 'aaa',22], \n",
        "        [2, 'bbb',25], \n",
        "        [3, 'ccc', 24]]\n",
        "\n",
        "df = pd.DataFrame.from_records(data)\n",
        "print (df)"
      ],
      "metadata": {
        "id": "knH76sDKYsVX",
        "outputId": "f2c28161-ce4f-41f5-91d8-93c8da236576",
        "colab": {
          "base_uri": "https://localhost:8080/"
        }
      },
      "execution_count": 66,
      "outputs": [
        {
          "output_type": "stream",
          "name": "stdout",
          "text": [
            "   0    1   2\n",
            "0  1  aaa  22\n",
            "1  2  bbb  25\n",
            "2  3  ccc  24\n"
          ]
        }
      ]
    }
  ]
}